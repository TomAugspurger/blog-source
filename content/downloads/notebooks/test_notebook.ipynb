{
 "metadata": {
  "name": ""
 },
 "nbformat": 3,
 "nbformat_minor": 0,
 "worksheets": [
  {
   "cells": [
    {
     "cell_type": "heading",
     "level": 1,
     "metadata": {},
     "source": [
      "First Stats Discussion!"
     ]
    },
    {
     "cell_type": "markdown",
     "metadata": {},
     "source": [
      "This is some test lorem ipsum.\n",
      "\n",
      "Does the math work?\n",
      "\n",
      "\\begin{equation}\n",
      "    \\frac{1}{2} + \\alpha\n",
      "\\end{equation}\n",
      "\n",
      "How about inline $\\frac{1}{3} + \\alpha$"
     ]
    }
   ],
   "metadata": {}
  }
 ]
}